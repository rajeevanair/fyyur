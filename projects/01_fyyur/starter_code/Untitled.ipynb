{
 "cells": [
  {
   "cell_type": "code",
   "execution_count": 2,
   "metadata": {},
   "outputs": [],
   "source": [
    "from collections import defaultdict\n",
    "import json"
   ]
  },
  {
   "cell_type": "code",
   "execution_count": 3,
   "metadata": {},
   "outputs": [],
   "source": [
    "l = [{'city': 'San Francisco', 'state': 'CA', 'venues': [{'id': 1, 'name': 'The Musical Hop', 'num_upcoming_shows': 1}]}, {'city': 'New York', 'state': 'NY', 'venues': [{'id': 2, 'name': 'The Dueling Pianos Bar', 'num_upcoming_shows': 1}]}, {'city': 'San Francisco', 'state': 'CA', 'venues': [{'id': 3, 'name': 'Park Square Live Music & Coffee', 'num_upcoming_shows': 1}]}]"
   ]
  },
  {
   "cell_type": "code",
   "execution_count": 4,
   "metadata": {},
   "outputs": [
    {
     "data": {
      "text/plain": [
       "list"
      ]
     },
     "execution_count": 4,
     "metadata": {},
     "output_type": "execute_result"
    }
   ],
   "source": [
    "type(l)"
   ]
  },
  {
   "cell_type": "code",
   "execution_count": 5,
   "metadata": {},
   "outputs": [
    {
     "data": {
      "text/plain": [
       "[{'city': 'San Francisco',\n",
       "  'state': 'CA',\n",
       "  'venues': [{'id': 1, 'name': 'The Musical Hop', 'num_upcoming_shows': 1}]},\n",
       " {'city': 'New York',\n",
       "  'state': 'NY',\n",
       "  'venues': [{'id': 2,\n",
       "    'name': 'The Dueling Pianos Bar',\n",
       "    'num_upcoming_shows': 1}]},\n",
       " {'city': 'San Francisco',\n",
       "  'state': 'CA',\n",
       "  'venues': [{'id': 3,\n",
       "    'name': 'Park Square Live Music & Coffee',\n",
       "    'num_upcoming_shows': 1}]}]"
      ]
     },
     "execution_count": 5,
     "metadata": {},
     "output_type": "execute_result"
    }
   ],
   "source": [
    "l"
   ]
  },
  {
   "cell_type": "code",
   "execution_count": 6,
   "metadata": {},
   "outputs": [
    {
     "data": {
      "text/plain": [
       "{'city': 'San Francisco',\n",
       " 'state': 'CA',\n",
       " 'venues': [{'id': 1, 'name': 'The Musical Hop', 'num_upcoming_shows': 1}]}"
      ]
     },
     "execution_count": 6,
     "metadata": {},
     "output_type": "execute_result"
    }
   ],
   "source": [
    "l[0]"
   ]
  },
  {
   "cell_type": "code",
   "execution_count": null,
   "metadata": {},
   "outputs": [],
   "source": []
  }
 ],
 "metadata": {
  "kernelspec": {
   "display_name": "Python 3",
   "language": "python",
   "name": "python3"
  },
  "language_info": {
   "codemirror_mode": {
    "name": "ipython",
    "version": 3
   },
   "file_extension": ".py",
   "mimetype": "text/x-python",
   "name": "python",
   "nbconvert_exporter": "python",
   "pygments_lexer": "ipython3",
   "version": "3.7.6"
  }
 },
 "nbformat": 4,
 "nbformat_minor": 4
}
